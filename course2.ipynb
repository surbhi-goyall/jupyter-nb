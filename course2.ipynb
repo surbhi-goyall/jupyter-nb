{
 "cells": [
  {
   "cell_type": "markdown",
   "id": "94cb9829-4200-4f6e-bf14-4c27d0d677e5",
   "metadata": {},
   "source": [
    "# My Data Science Final Project\n"
   ]
  },
  {
   "cell_type": "markdown",
   "id": "510d1cf8-2110-4908-adb2-9e5e5c3b2f32",
   "metadata": {},
   "source": [
    "## Introduction\n",
    "\n",
    "Welcome to my final project on data science! In this notebook, I will explore various aspects of data science and showcase my understanding of key concepts and tools.\n"
   ]
  },
  {
   "cell_type": "markdown",
   "id": "61ec12f4-e7a3-44cb-a94e-71d8d8603aab",
   "metadata": {},
   "source": [
    "## Data Science Languages\n",
    "\n",
    "1. Python\n",
    "2. R\n",
    "3. Julia\n"
   ]
  },
  {
   "cell_type": "markdown",
   "id": "055058e6-a955-444b-b462-4c99e72b5e00",
   "metadata": {},
   "source": [
    "## Data Science Languages\n",
    "\n",
    "1. Python\n",
    "2. R\n",
    "3. Julia\n"
   ]
  },
  {
   "cell_type": "markdown",
   "id": "d90a1164-7e51-4025-8741-1cc3fa80355b",
   "metadata": {},
   "source": [
    "## Data Science Libraries\n",
    "\n",
    "1. NumPy\n",
    "2. Pandas\n",
    "3. Matplotlib\n",
    "4. Seaborn\n",
    "5. Scikit-learn\n"
   ]
  },
  {
   "cell_type": "markdown",
   "id": "0de7ae1d-907f-4b4e-a3e3-55cb2b992c27",
   "metadata": {},
   "source": [
    "## Data Science Tools\n",
    "\n",
    "| Tool         | Description                  |\n",
    "|--------------|------------------------------|\n",
    "| Jupyter      | Interactive notebooks       |\n",
    "| VS Code      | Integrated development      |\n",
    "|              | environment for Python      |\n",
    "| Tableau      | Data visualization tool     |\n",
    "| TensorFlow   | Open-source machine learning |\n",
    "|              | framework                    |\n"
   ]
  },
  {
   "cell_type": "markdown",
   "id": "9084e7fb-5fb6-418f-b20c-99f518f88147",
   "metadata": {},
   "source": [
    "## Arithmetic Expression Examples\n",
    "\n",
    "Let's explore some basic arithmetic expressions to solidify our understanding of mathematical operations in programming.\n"
   ]
  },
  {
   "cell_type": "code",
   "execution_count": 1,
   "id": "5c0de02b-b8dd-42c6-8118-405cbced980b",
   "metadata": {},
   "outputs": [
    {
     "data": {
      "text/plain": [
       "(40, 25)"
      ]
     },
     "execution_count": 1,
     "metadata": {},
     "output_type": "execute_result"
    }
   ],
   "source": [
    "# Multiplication\n",
    "result_multiply = 5 * 8\n",
    "\n",
    "# Addition\n",
    "result_addition = 10 + 15\n",
    "\n",
    "result_multiply, result_addition\n"
   ]
  },
  {
   "cell_type": "code",
   "execution_count": 2,
   "id": "ebacb281-9cfd-486e-a8c8-23304bc55d12",
   "metadata": {},
   "outputs": [
    {
     "data": {
      "text/plain": [
       "2.0"
      ]
     },
     "execution_count": 2,
     "metadata": {},
     "output_type": "execute_result"
    }
   ],
   "source": [
    "# Conversion of minutes to hours\n",
    "minutes = 120\n",
    "hours = minutes / 60\n",
    "\n",
    "hours\n"
   ]
  },
  {
   "cell_type": "markdown",
   "id": "c70f0668-8c52-45eb-937b-ed16cbb4fa65",
   "metadata": {},
   "source": [
    "## Objectives\n",
    "\n",
    "1. Demonstrate knowledge of key data science languages and libraries.\n",
    "2. Showcase understanding of basic arithmetic expressions.\n",
    "3. Present a table of popular data science tools.\n"
   ]
  },
  {
   "cell_type": "markdown",
   "id": "160f9492-872a-4e91-8868-d12149a821bf",
   "metadata": {},
   "source": [
    "## Author\n",
    "\n",
    "surbhi goyal\n"
   ]
  },
  {
   "cell_type": "code",
   "execution_count": null,
   "id": "32a990e9-0210-4562-90a5-6756dcf890cb",
   "metadata": {},
   "outputs": [],
   "source": []
  }
 ],
 "metadata": {
  "kernelspec": {
   "display_name": "Python 3 (ipykernel)",
   "language": "python",
   "name": "python3"
  },
  "language_info": {
   "codemirror_mode": {
    "name": "ipython",
    "version": 3
   },
   "file_extension": ".py",
   "mimetype": "text/x-python",
   "name": "python",
   "nbconvert_exporter": "python",
   "pygments_lexer": "ipython3",
   "version": "3.11.1"
  }
 },
 "nbformat": 4,
 "nbformat_minor": 5
}
